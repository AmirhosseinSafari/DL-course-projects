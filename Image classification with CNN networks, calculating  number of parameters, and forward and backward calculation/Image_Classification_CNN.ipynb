{
  "cells": [
    {
      "cell_type": "markdown",
      "source": [
        "<h1 style=\"text-align: center\">\n",
        "Deep Learning HW2 </br> \n",
        "Image Classification\n",
        "</h1>"
      ],
      "metadata": {
        "id": "XsrcohGwVhLJ"
      }
    },
    {
      "cell_type": "markdown",
      "source": [
        "### Full Name: Amirhossein Safari\n",
        "### Student ID: 14014121"
      ],
      "metadata": {
        "id": "MLmC7lVpRx8y"
      }
    },
    {
      "cell_type": "markdown",
      "metadata": {
        "papermill": {
          "duration": 0.022376,
          "end_time": "2020-11-06T00:15:34.434234",
          "exception": false,
          "start_time": "2020-11-06T00:15:34.411858",
          "status": "completed"
        },
        "tags": [],
        "id": "atGYO6DvK5NU"
      },
      "source": [
        "## Import needed libraries\n"
      ]
    },
    {
      "cell_type": "code",
      "execution_count": null,
      "metadata": {
        "execution": {
          "iopub.execute_input": "2020-11-06T00:15:34.484628Z",
          "iopub.status.busy": "2020-11-06T00:15:34.483829Z",
          "iopub.status.idle": "2020-11-06T00:15:35.592124Z",
          "shell.execute_reply": "2020-11-06T00:15:35.591266Z"
        },
        "papermill": {
          "duration": 1.135699,
          "end_time": "2020-11-06T00:15:35.592273",
          "exception": false,
          "start_time": "2020-11-06T00:15:34.456574",
          "status": "completed"
        },
        "tags": [],
        "id": "dIjCFmM1K5NX"
      },
      "outputs": [],
      "source": [
        "import numpy as np\n",
        "import matplotlib.pyplot as plt\n",
        "import seaborn as sns\n",
        "import torch\n",
        "import torchvision\n",
        "import torchvision.transforms as transforms\n",
        "from torch.utils.data import random_split\n",
        "from torch.utils.data.dataloader import DataLoader\n",
        "from tqdm import tqdm\n",
        "from sklearn.metrics import classification_report"
      ]
    },
    {
      "cell_type": "markdown",
      "source": [
        "## Loading and Pre-Processing data"
      ],
      "metadata": {
        "id": "_ih2AD9ie1MX"
      }
    },
    {
      "cell_type": "markdown",
      "source": [
        "دانلود مجموعه داده FashionMNIST، با استفاده از مجموعه داده fashion mnist"
      ],
      "metadata": {
        "id": "T-lMFiy5N_L4"
      }
    },
    {
      "cell_type": "code",
      "source": [
        "## Downloading FashionMNIST dataset, using fashion mnist dataset\n",
        "train_set = torchvision.datasets.FashionMNIST(root='./data', train=True, download=True, transform=transforms.ToTensor())\n",
        "test_set = torchvision.datasets.FashionMNIST(root='./data', train=False, download=True, transform=transforms.ToTensor())"
      ],
      "metadata": {
        "id": "uaZtkgKAe2LN",
        "colab": {
          "base_uri": "https://localhost:8080/"
        },
        "outputId": "235ba212-8ccb-4681-cafa-802be1b5682d"
      },
      "execution_count": null,
      "outputs": [
        {
          "output_type": "stream",
          "name": "stdout",
          "text": [
            "Downloading http://fashion-mnist.s3-website.eu-central-1.amazonaws.com/train-images-idx3-ubyte.gz\n",
            "Downloading http://fashion-mnist.s3-website.eu-central-1.amazonaws.com/train-images-idx3-ubyte.gz to ./data/FashionMNIST/raw/train-images-idx3-ubyte.gz\n"
          ]
        },
        {
          "output_type": "stream",
          "name": "stderr",
          "text": [
            "100%|██████████| 26421880/26421880 [00:02<00:00, 12386572.08it/s]\n"
          ]
        },
        {
          "output_type": "stream",
          "name": "stdout",
          "text": [
            "Extracting ./data/FashionMNIST/raw/train-images-idx3-ubyte.gz to ./data/FashionMNIST/raw\n",
            "\n",
            "Downloading http://fashion-mnist.s3-website.eu-central-1.amazonaws.com/train-labels-idx1-ubyte.gz\n",
            "Downloading http://fashion-mnist.s3-website.eu-central-1.amazonaws.com/train-labels-idx1-ubyte.gz to ./data/FashionMNIST/raw/train-labels-idx1-ubyte.gz\n"
          ]
        },
        {
          "output_type": "stream",
          "name": "stderr",
          "text": [
            "100%|██████████| 29515/29515 [00:00<00:00, 210841.02it/s]\n"
          ]
        },
        {
          "output_type": "stream",
          "name": "stdout",
          "text": [
            "Extracting ./data/FashionMNIST/raw/train-labels-idx1-ubyte.gz to ./data/FashionMNIST/raw\n",
            "\n",
            "Downloading http://fashion-mnist.s3-website.eu-central-1.amazonaws.com/t10k-images-idx3-ubyte.gz\n",
            "Downloading http://fashion-mnist.s3-website.eu-central-1.amazonaws.com/t10k-images-idx3-ubyte.gz to ./data/FashionMNIST/raw/t10k-images-idx3-ubyte.gz\n"
          ]
        },
        {
          "output_type": "stream",
          "name": "stderr",
          "text": [
            "100%|██████████| 4422102/4422102 [00:01<00:00, 3930885.63it/s]\n"
          ]
        },
        {
          "output_type": "stream",
          "name": "stdout",
          "text": [
            "Extracting ./data/FashionMNIST/raw/t10k-images-idx3-ubyte.gz to ./data/FashionMNIST/raw\n",
            "\n",
            "Downloading http://fashion-mnist.s3-website.eu-central-1.amazonaws.com/t10k-labels-idx1-ubyte.gz\n",
            "Downloading http://fashion-mnist.s3-website.eu-central-1.amazonaws.com/t10k-labels-idx1-ubyte.gz to ./data/FashionMNIST/raw/t10k-labels-idx1-ubyte.gz\n"
          ]
        },
        {
          "output_type": "stream",
          "name": "stderr",
          "text": [
            "100%|██████████| 5148/5148 [00:00<00:00, 21613890.88it/s]"
          ]
        },
        {
          "output_type": "stream",
          "name": "stdout",
          "text": [
            "Extracting ./data/FashionMNIST/raw/t10k-labels-idx1-ubyte.gz to ./data/FashionMNIST/raw\n",
            "\n"
          ]
        },
        {
          "output_type": "stream",
          "name": "stderr",
          "text": [
            "\n"
          ]
        }
      ]
    },
    {
      "cell_type": "markdown",
      "source": [
        " تقسیم مجموعه آموزشی به داده‌های قطار و اعتبارسنجی"
      ],
      "metadata": {
        "id": "E4hpvrSbOIIt"
      }
    },
    {
      "cell_type": "code",
      "source": [
        "# splitting training set into train and validation data\n",
        "train_size = 48000\n",
        "val_size = 60000 - train_size\n",
        "train_ds, val_ds = random_split(train_set, [train_size, val_size])"
      ],
      "metadata": {
        "id": "CsktV4w-e64U"
      },
      "execution_count": null,
      "outputs": []
    },
    {
      "cell_type": "markdown",
      "source": [
        " بارگذاری مجموعه داده در حافظه با استفاده از Dataloader\n",
        " سایز دسته ای استفاده شده برابر با 64 و shuffle اجرا شده است"
      ],
      "metadata": {
        "id": "gU3lh7W5OO8o"
      }
    },
    {
      "cell_type": "code",
      "source": [
        "# Loading the dataset into memory using Dataloader\n",
        "# Used batch size equal to 64 and shuffle is implemented\n",
        "batch_size = 64\n",
        "train_dataloader = DataLoader(train_ds, batch_size=batch_size, shuffle=True)\n",
        "val_dataloader = DataLoader(val_ds, batch_size=batch_size)\n",
        "test_dataloader = DataLoader(test_set, batch_size=batch_size)\n",
        "classes = train_set.classes"
      ],
      "metadata": {
        "id": "cRIhgkNPe-rW"
      },
      "execution_count": null,
      "outputs": []
    },
    {
      "cell_type": "markdown",
      "source": [
        "**Display some images from dataset**"
      ],
      "metadata": {
        "id": "MVqdLxDd8O5o"
      }
    },
    {
      "cell_type": "code",
      "source": [
        "# get some random training images\n",
        "dataiter = iter(train_dataloader)\n",
        "images, labels = next(dataiter)\n",
        "fig, axes = plt.subplots(nrows=1, ncols=6, figsize=(10, 8), subplot_kw={'xticks': [], 'yticks': []})\n",
        "for i,ax in zip(range(0,6),axes.flat):\n",
        "    img,label=images[i],labels[i]\n",
        "    ax.imshow(img.permute(1, 2, 0))\n",
        "    ax.set_title(f\"Label: {classes[label]}\")\n",
        "\n",
        "plt.tight_layout()\n",
        "plt.show()"
      ],
      "metadata": {
        "colab": {
          "base_uri": "https://localhost:8080/",
          "height": 208
        },
        "id": "LnhmcZP9e62N",
        "outputId": "62ee4414-dd0a-41fa-a83e-566f95c3fddd"
      },
      "execution_count": null,
      "outputs": [
        {
          "output_type": "display_data",
          "data": {
            "text/plain": [
              "<Figure size 1000x800 with 6 Axes>"
            ],
            "image/png": "[encoded data removed]"
          },
          "metadata": {}
        }
      ]
    },
    {
      "cell_type": "markdown",
      "metadata": {
        "papermill": {
          "duration": 0.025997,
          "end_time": "2020-11-06T00:15:44.018664",
          "exception": false,
          "start_time": "2020-11-06T00:15:43.992667",
          "status": "completed"
        },
        "tags": [],
        "id": "T7RMnLBSK5Nc"
      },
      "source": [
        "# Defining the Convolutional Neural Network"
      ]
    },
    {
      "cell_type": "markdown",
      "source": [
        "<img src='https://drive.google.com/uc?id=1Euy5_bGIiiYECSZUeEofgTImJWgQ0XLf'>"
      ],
      "metadata": {
        "id": "If6yxMmoqxDN"
      }
    },
    {
      "cell_type": "markdown",
      "source": [
        "**<h2>Implement the model above in pytorch</h2>**"
      ],
      "metadata": {
        "id": "F_UOoVg8tjwT"
      }
    },
    {
      "cell_type": "code",
      "source": [
        "import torch.nn as nn\n",
        "import torch.nn.functional as F\n",
        "\n",
        "# Definning architecture of above network\n",
        "class Net(nn.Module):\n",
        "    # لایه ها در تابع __init__ تعریف می شوند\n",
        "    def __init__(self):\n",
        "        super(Net, self).__init__()\n",
        "\n",
        "        self.layer1 = nn.Sequential(\n",
        "            nn.Conv2d(1, 32, kernel_size=3, stride=1, padding=1),\n",
        "            nn.BatchNorm2d(32),\n",
        "            nn.ReLU(),\n",
        "            nn.MaxPool2d(kernel_size=2, stride=2)\n",
        "        )\n",
        "        self.layer2 = nn.Sequential(\n",
        "            nn.Conv2d(32, 64, kernel_size=3, stride=1),\n",
        "            nn.BatchNorm2d(64),\n",
        "            nn.ReLU(),\n",
        "            nn.MaxPool2d(kernel_size=2, stride=2)\n",
        "        )\n",
        "        self.fc1 = nn.Linear(2304, 600)\n",
        "        self.fc2 = nn.Linear(600, 120)\n",
        "        self.fc3 = nn.Linear(120, 10)\n",
        "        \n",
        "    #  forward pass در تابع forward تعریف شده است.\n",
        "    def forward(self, x):\n",
        "        out = self.layer1(x)\n",
        "        out = self.layer2(out)\n",
        "        out = out.view(out.size(0), -1)\n",
        "        out = self.fc1(out)\n",
        "        out = self.fc2(out)\n",
        "        out = self.fc3(out)\n",
        "        \n",
        "        return out"
      ],
      "metadata": {
        "id": "5d4iYGy6cwgZ"
      },
      "execution_count": null,
      "outputs": []
    },
    {
      "cell_type": "code",
      "source": [
        "# Using GPU if it's available\n",
        "device = torch.device('cuda' if torch.cuda.is_available() else 'cpu')"
      ],
      "metadata": {
        "id": "450scXnLLDSl"
      },
      "execution_count": null,
      "outputs": []
    },
    {
      "cell_type": "code",
      "source": [
        "device"
      ],
      "metadata": {
        "colab": {
          "base_uri": "https://localhost:8080/"
        },
        "id": "jDCJkIVVqHlX",
        "outputId": "6f6c380d-0b23-45c5-ffa1-c7bede6dd385"
      },
      "execution_count": null,
      "outputs": [
        {
          "output_type": "execute_result",
          "data": {
            "text/plain": [
              "device(type='cuda')"
            ]
          },
          "metadata": {},
          "execution_count": 8
        }
      ]
    },
    {
      "cell_type": "code",
      "source": [
        "cnn_model = Net()\n",
        "cnn_model.to(device)"
      ],
      "metadata": {
        "colab": {
          "base_uri": "https://localhost:8080/"
        },
        "id": "mPP8CaHv684n",
        "outputId": "de51db85-7856-495a-8c33-83e3b6a4dbc6"
      },
      "execution_count": null,
      "outputs": [
        {
          "output_type": "execute_result",
          "data": {
            "text/plain": [
              "Net(\n",
              "  (layer1): Sequential(\n",
              "    (0): Conv2d(1, 32, kernel_size=(3, 3), stride=(1, 1), padding=(1, 1))\n",
              "    (1): BatchNorm2d(32, eps=1e-05, momentum=0.1, affine=True, track_running_stats=True)\n",
              "    (2): ReLU()\n",
              "    (3): MaxPool2d(kernel_size=2, stride=2, padding=0, dilation=1, ceil_mode=False)\n",
              "  )\n",
              "  (layer2): Sequential(\n",
              "    (0): Conv2d(32, 64, kernel_size=(3, 3), stride=(1, 1))\n",
              "    (1): BatchNorm2d(64, eps=1e-05, momentum=0.1, affine=True, track_running_stats=True)\n",
              "    (2): ReLU()\n",
              "    (3): MaxPool2d(kernel_size=2, stride=2, padding=0, dilation=1, ceil_mode=False)\n",
              "  )\n",
              "  (fc1): Linear(in_features=2304, out_features=600, bias=True)\n",
              "  (fc2): Linear(in_features=600, out_features=120, bias=True)\n",
              "  (fc3): Linear(in_features=120, out_features=10, bias=True)\n",
              ")"
            ]
          },
          "metadata": {},
          "execution_count": 9
        }
      ]
    },
    {
      "cell_type": "markdown",
      "metadata": {
        "papermill": {
          "duration": 0.026597,
          "end_time": "2020-11-06T00:15:44.148554",
          "exception": false,
          "start_time": "2020-11-06T00:15:44.121957",
          "status": "completed"
        },
        "tags": [],
        "id": "NJ0Xr7KfK5Ne"
      },
      "source": [
        "# Defining Loss Function and optimizer\n",
        "**Define appropriate Loss Function, Optimizer and Learning Rate**"
      ]
    },
    {
      "cell_type": "markdown",
      "source": [
        "نرخ یادگیری را 0.001 قرار دادیم.\n",
        "\n",
        "تابع loss روی nn.CrossEntropyLoss() تنظیم شده است که معمولاً برای کارهای طبقه بندی چند کلاسه استفاده می شود.\n",
        "\n",
        "بهینه ساز به صورت optim.Adam(net.parameters()، lr=learning_rate) تعریف می شود. از الگوریتم بهینه سازی adam برای به روز رسانی پارامترهای شبکه در طول آموزش استفاده می کند. آرگومان net.parameters() مشخص می کند که می خواهیم تمام پارامترهای شبکه عصبی را بهینه کنیم."
      ],
      "metadata": {
        "id": "hJRGKlGDSrM0"
      }
    },
    {
      "cell_type": "code",
      "execution_count": null,
      "metadata": {
        "execution": {
          "iopub.execute_input": "2020-11-06T00:15:44.209323Z",
          "iopub.status.busy": "2020-11-06T00:15:44.208462Z",
          "iopub.status.idle": "2020-11-06T00:15:44.211159Z",
          "shell.execute_reply": "2020-11-06T00:15:44.211695Z"
        },
        "papermill": {
          "duration": 0.036545,
          "end_time": "2020-11-06T00:15:44.211856",
          "exception": false,
          "start_time": "2020-11-06T00:15:44.175311",
          "status": "completed"
        },
        "tags": [],
        "id": "aAhczTtRK5Nf"
      },
      "outputs": [],
      "source": [
        "import torch.optim as optim\n",
        "\n",
        "learning_rate = 0.001\n",
        "criterion = nn.CrossEntropyLoss()\n",
        "optimizer = optim.Adam(cnn_model.parameters(), lr=learning_rate)"
      ]
    },
    {
      "cell_type": "markdown",
      "source": [
        "**Define number of epochs and path to save the best model**"
      ],
      "metadata": {
        "id": "MTs7zqIuT6bI"
      }
    },
    {
      "cell_type": "markdown",
      "source": [
        "تعداد epoch ها 10 است"
      ],
      "metadata": {
        "id": "DzJlkRORTFvy"
      }
    },
    {
      "cell_type": "code",
      "source": [
        "epochs = 10\n",
        "save_path=\"/content/cnn_model\""
      ],
      "metadata": {
        "id": "TIl4qh6gT68p"
      },
      "execution_count": null,
      "outputs": []
    },
    {
      "cell_type": "markdown",
      "metadata": {
        "papermill": {
          "duration": 0.026206,
          "end_time": "2020-11-06T00:15:44.264708",
          "exception": false,
          "start_time": "2020-11-06T00:15:44.238502",
          "status": "completed"
        },
        "tags": [],
        "id": "oE5cyPw3K5Ng"
      },
      "source": [
        "# Finally we will train our neural network"
      ]
    },
    {
      "cell_type": "code",
      "source": [
        "# multiclass accuracy\n",
        "def multi_acc(y_pred, y_test):\n",
        "    _, y_pred_tags = torch.max(y_pred, dim = 1)    \n",
        "    correct_pred = (y_pred_tags == y_test).float()\n",
        "    acc = correct_pred.sum() / len(correct_pred)\n",
        "    acc = torch.round(acc * 100)\n",
        "    return acc"
      ],
      "metadata": {
        "id": "2czjHpINLO7A"
      },
      "execution_count": null,
      "outputs": []
    },
    {
      "cell_type": "markdown",
      "source": [
        "**Implementing the training algorithm and Saving the model with minimum Validation Loss**"
      ],
      "metadata": {
        "id": "-0JhvfcNYGwI"
      }
    },
    {
      "cell_type": "code",
      "source": [
        "# training loop\n",
        "def train_model(model, train_dataloader, val_dataloader, n_epochs, optimizer, criterion, device, save_path):\n",
        "    train_losses = []\n",
        "    val_losses = []\n",
        "    valid_loss_min = np.Inf \n",
        "\n",
        "    for epoch in range(n_epochs):\n",
        "        ####### Training Phase ########\n",
        "        # در داخل حلقه، ابتدا مدل را روی حالت آموزشی (model.train()) \n",
        "        # قرار می دهد و روی داده بارگذار آموزشی تکرار می شود. داده ها و tensorهای هدف را به دستگاه مشخص شده منتقل می کند \n",
        "        # و برای محاسبه loss و به روز رسانی پارامترهای مدل، forward و backward را انجام می دهد.\n",
        "        model.train()\n",
        "        with tqdm(train_dataloader, unit=\"batch\") as batches:\n",
        "            epoch_loss = 0\n",
        "            for data, target in batches:\n",
        "                batches.set_description(f\"Epoch {epoch + 1}\")\n",
        "\n",
        "                # move to GPU\n",
        "                data = data.to(device)\n",
        "                target = target.to(device)\n",
        "\n",
        "                # zero the gradients\n",
        "                optimizer.zero_grad()\n",
        "\n",
        "                # forward pass\n",
        "                output = model(data)\n",
        "                loss = criterion(output, target)\n",
        "\n",
        "                # backward pass and optimization\n",
        "                loss.backward()\n",
        "                optimizer.step()\n",
        "\n",
        "                epoch_loss += loss.item()\n",
        "\n",
        "                acc = multi_acc(output, target)\n",
        "                batches.set_postfix(train_loss=loss.item(), train_accuracy=acc.item())  # show loss and accuracy per batch of data\n",
        "\n",
        "        train_losses.append(epoch_loss)\n",
        "\n",
        "\n",
        "        ####### Validation Phase ########\n",
        "        # مدل را روی حالت ارزیابی قرار می‌دهد (model.eval()) و روی dataloader اعتبارسنجی تکرار می‌کند تا ضرر اعتبارسنجی را بدون محاسبه گرادیان محاسبه کند.\n",
        "        model.eval()\n",
        "        with torch.no_grad():\n",
        "            valid_loss = 0.0\n",
        "            # run the prediction on the validation dataloader\n",
        "            for data, target in val_dataloader:\n",
        "                # move to GPU\n",
        "                data = data.to(device)\n",
        "                target = target.to(device)\n",
        "\n",
        "                # forward pass\n",
        "                output = model(data)\n",
        "                loss = criterion(output, target)\n",
        "\n",
        "                valid_loss += loss.item()\n",
        "\n",
        "        val_losses.append(valid_loss / len(val_dataloader))\n",
        "        \n",
        "        # print validation statistics \n",
        "        print('Epoch: {}  Validation Loss: {:.6f}'.format(epoch+1, valid_loss))\n",
        "\n",
        "        ## If the valiation loss has decreased, then saving the model\n",
        "        if valid_loss <= valid_loss_min:\n",
        "            print('Validation loss decreased ({:.6f} --> {:.6f}).  Saving model ...'.format(\n",
        "            valid_loss_min,\n",
        "            valid_loss))\n",
        "            torch.save(model.state_dict(), save_path)\n",
        "            valid_loss_min = valid_loss \n",
        "\n",
        "    return model, train_losses, val_losses"
      ],
      "metadata": {
        "id": "Dhs9WLSeNA-6"
      },
      "execution_count": null,
      "outputs": []
    },
    {
      "cell_type": "markdown",
      "source": [
        "**Train the model**"
      ],
      "metadata": {
        "id": "Iz5KwJJ61LAI"
      }
    },
    {
      "cell_type": "code",
      "source": [
        "# Train the model\n",
        "# تابع train_model، عبور در مدل، بارگذارهای آموزشی و اعتبارسنجی، تعداد دوره‌ها، بهینه‌ساز، معیار از دست دادن، دستگاه و مسیر ذخیره را می‌نامیم. تابع مدل آموزش دیده (trained_model)، لیستی از trainnig loss در هر دوره (train_losses) و لیستی از loss اعتبارسنجی در هر دوره (val_losses) را برمی گرداند.\n",
        "trained_model, train_losses, val_losses = train_model(cnn_model, train_dataloader, val_dataloader, epochs, optimizer, criterion, device, save_path)\n"
      ],
      "metadata": {
        "colab": {
          "base_uri": "https://localhost:8080/"
        },
        "id": "0XCENXbmZWyQ",
        "outputId": "5265a77f-bcbb-4f0c-c5f9-a9dd3f43a16c"
      },
      "execution_count": null,
      "outputs": [
        {
          "output_type": "stream",
          "name": "stderr",
          "text": [
            "Epoch 1: 100%|██████████| 750/750 [00:14<00:00, 52.44batch/s, train_accuracy=84, train_loss=0.47]\n"
          ]
        },
        {
          "output_type": "stream",
          "name": "stdout",
          "text": [
            "Epoch: 1  Validation Loss: 54.359665\n",
            "Validation loss decreased (inf --> 54.359665).  Saving model ...\n"
          ]
        },
        {
          "output_type": "stream",
          "name": "stderr",
          "text": [
            "Epoch 2: 100%|██████████| 750/750 [00:14<00:00, 51.92batch/s, train_accuracy=91, train_loss=0.23]\n"
          ]
        },
        {
          "output_type": "stream",
          "name": "stdout",
          "text": [
            "Epoch: 2  Validation Loss: 46.551391\n",
            "Validation loss decreased (54.359665 --> 46.551391).  Saving model ...\n"
          ]
        },
        {
          "output_type": "stream",
          "name": "stderr",
          "text": [
            "Epoch 3: 100%|██████████| 750/750 [00:13<00:00, 54.05batch/s, train_accuracy=97, train_loss=0.11]\n"
          ]
        },
        {
          "output_type": "stream",
          "name": "stdout",
          "text": [
            "Epoch: 3  Validation Loss: 46.824213\n"
          ]
        },
        {
          "output_type": "stream",
          "name": "stderr",
          "text": [
            "Epoch 4: 100%|██████████| 750/750 [00:13<00:00, 54.37batch/s, train_accuracy=92, train_loss=0.277]\n"
          ]
        },
        {
          "output_type": "stream",
          "name": "stdout",
          "text": [
            "Epoch: 4  Validation Loss: 50.827055\n"
          ]
        },
        {
          "output_type": "stream",
          "name": "stderr",
          "text": [
            "Epoch 5: 100%|██████████| 750/750 [00:16<00:00, 45.45batch/s, train_accuracy=95, train_loss=0.103]\n"
          ]
        },
        {
          "output_type": "stream",
          "name": "stdout",
          "text": [
            "Epoch: 5  Validation Loss: 46.569711\n"
          ]
        },
        {
          "output_type": "stream",
          "name": "stderr",
          "text": [
            "Epoch 6: 100%|██████████| 750/750 [00:13<00:00, 54.51batch/s, train_accuracy=92, train_loss=0.222]\n"
          ]
        },
        {
          "output_type": "stream",
          "name": "stdout",
          "text": [
            "Epoch: 6  Validation Loss: 48.574767\n"
          ]
        },
        {
          "output_type": "stream",
          "name": "stderr",
          "text": [
            "Epoch 7: 100%|██████████| 750/750 [00:14<00:00, 52.65batch/s, train_accuracy=92, train_loss=0.195]\n"
          ]
        },
        {
          "output_type": "stream",
          "name": "stdout",
          "text": [
            "Epoch: 7  Validation Loss: 53.719976\n"
          ]
        },
        {
          "output_type": "stream",
          "name": "stderr",
          "text": [
            "Epoch 8: 100%|██████████| 750/750 [00:13<00:00, 53.94batch/s, train_accuracy=95, train_loss=0.128]\n"
          ]
        },
        {
          "output_type": "stream",
          "name": "stdout",
          "text": [
            "Epoch: 8  Validation Loss: 53.161622\n"
          ]
        },
        {
          "output_type": "stream",
          "name": "stderr",
          "text": [
            "Epoch 9: 100%|██████████| 750/750 [00:13<00:00, 53.86batch/s, train_accuracy=86, train_loss=0.333]\n"
          ]
        },
        {
          "output_type": "stream",
          "name": "stdout",
          "text": [
            "Epoch: 9  Validation Loss: 55.106597\n"
          ]
        },
        {
          "output_type": "stream",
          "name": "stderr",
          "text": [
            "Epoch 10: 100%|██████████| 750/750 [00:13<00:00, 54.14batch/s, train_accuracy=98, train_loss=0.0561]\n"
          ]
        },
        {
          "output_type": "stream",
          "name": "stdout",
          "text": [
            "Epoch: 10  Validation Loss: 58.711758\n"
          ]
        }
      ]
    },
    {
      "cell_type": "code",
      "source": [
        "# plot losses\n",
        "plt.subplots(figsize=(12, 8))\n",
        "sns.set_style(\"dark\")\n",
        "sns.lineplot(data=val_losses,label=\"Validation Loss\")\n",
        "sns.lineplot(data=np.asarray(train_losses)/1000,label=\"Train Loss\").set(title=\"loss change during training\", xlabel=\"epoch\", ylabel=\"loss\")\n",
        "plt.legend()\n",
        "plt.show()"
      ],
      "metadata": {
        "id": "1VIIMDdGUgwZ",
        "colab": {
          "base_uri": "https://localhost:8080/",
          "height": 718
        },
        "outputId": "3ec1a8d7-0e35-446c-81b1-add8114cd42e"
      },
      "execution_count": null,
      "outputs": [
        {
          "output_type": "display_data",
          "data": {
            "text/plain": [
              "<Figure size 1200x800 with 1 Axes>"
            ],
            "image/png": "[encoded data removed]"
          },
          "metadata": {}
        }
      ]
    },
    {
      "cell_type": "markdown",
      "metadata": {
        "papermill": {
          "duration": 0.035134,
          "end_time": "2020-11-06T00:19:25.651361",
          "exception": false,
          "start_time": "2020-11-06T00:19:25.616227",
          "status": "completed"
        },
        "tags": [],
        "id": "5fvHlCSjK5Nk"
      },
      "source": [
        "# Prediction on Test Data"
      ]
    },
    {
      "cell_type": "code",
      "source": [
        "def predict(images, model):\n",
        "    # Set the model to evaluation mode\n",
        "    model.eval()\n",
        "\n",
        "    # Move images to the appropriate device\n",
        "    device = next(model.parameters()).device\n",
        "    images = images.to(device)\n",
        "\n",
        "    # Forward pass to get the predicted outputs\n",
        "    outputs = model(images)\n",
        "\n",
        "    # Get the predicted labels\n",
        "    # ما از torch.max (خروجی‌ها، 1) برای دریافت برچسب‌های پیش‌بینی‌شده استفاده می‌کنیم. تابع torch.max () حداکثر مقدار و شاخص آن را در طول یک بعد معین برمی گرداند.\n",
        "    #  در این حالت از dim=1 برای بدست آوردن حداکثر مقدار و شاخص آن در امتداد بعد دوم (که نشان دهنده احتمالات پیش بینی شده برای هر کلاس است) استفاده می کنیم. \n",
        "    # برچسب های پیش بینی شده شاخص های حداکثر مقادیر هستند.\n",
        "    _, predicted = torch.max(outputs, 1)\n",
        "\n",
        "    return predicted"
      ],
      "metadata": {
        "id": "Apy7kcRI3-ei"
      },
      "execution_count": null,
      "outputs": []
    },
    {
      "cell_type": "markdown",
      "source": [
        "**Accuracy Result on Test Data**"
      ],
      "metadata": {
        "id": "-4B6q4vC39ry"
      }
    },
    {
      "cell_type": "code",
      "source": [
        "correct = 0\n",
        "total = 0\n",
        "y_pred_list = []\n",
        "y_true_list = []\n",
        "\n",
        "# ما از یک متن با torch.no_grad() برای غیرفعال کردن محاسبه گرادیان در طول فرآیند ارزیابی استفاده می کنیم\n",
        "with torch.no_grad():\n",
        "    for data in test_dataloader:\n",
        "        # Get the inputs and labels from the test dataloader\n",
        "        inputs, labels = data\n",
        "        inputs = inputs.to(device)\n",
        "        labels = labels.to(device)\n",
        "\n",
        "        # Make predictions using the predict function\n",
        "        predicted = predict(inputs, cnn_model)\n",
        "\n",
        "        # Update the correct and total counts\n",
        "        total += labels.size(0)\n",
        "        correct += (predicted == labels).sum().item()\n",
        "\n",
        "        for  x in predicted.cpu().numpy(): y_pred_list.append(x)\n",
        "        for  x in labels.cpu().numpy(): y_true_list.append(x)\n",
        "\n",
        "# Calculate the accuracy\n",
        "accuracy = 100 * correct / total\n",
        "print('Accuracy of the network on the 10000 test images: %f %%' % accuracy)"
      ],
      "metadata": {
        "colab": {
          "base_uri": "https://localhost:8080/"
        },
        "id": "zVNfjOms_5PG",
        "outputId": "ffef942e-5841-4610-be75-44fa0cb65435"
      },
      "execution_count": null,
      "outputs": [
        {
          "output_type": "stream",
          "name": "stdout",
          "text": [
            "Accuracy of the network on the 10000 test images: 90.050000 %\n"
          ]
        }
      ]
    },
    {
      "cell_type": "markdown",
      "metadata": {
        "papermill": {
          "duration": 0.047911,
          "end_time": "2020-11-06T00:19:31.934242",
          "exception": false,
          "start_time": "2020-11-06T00:19:31.886331",
          "status": "completed"
        },
        "tags": [],
        "id": "D8b8n56jK5No"
      },
      "source": [
        "**Classification report**"
      ]
    },
    {
      "cell_type": "code",
      "source": [
        "print(classification_report(y_true_list, y_pred_list, target_names=classes))"
      ],
      "metadata": {
        "id": "pXpTYXeOdE10",
        "colab": {
          "base_uri": "https://localhost:8080/"
        },
        "outputId": "f73f8237-ab20-4578-8124-8e6539fa6889"
      },
      "execution_count": null,
      "outputs": [
        {
          "output_type": "stream",
          "name": "stdout",
          "text": [
            "              precision    recall  f1-score   support\n",
            "\n",
            " T-shirt/top       0.87      0.85      0.86      1000\n",
            "     Trouser       0.99      0.99      0.99      1000\n",
            "    Pullover       0.74      0.94      0.83      1000\n",
            "       Dress       0.91      0.90      0.90      1000\n",
            "        Coat       0.88      0.78      0.83      1000\n",
            "      Sandal       0.97      0.97      0.97      1000\n",
            "       Shirt       0.80      0.67      0.73      1000\n",
            "     Sneaker       0.94      0.97      0.96      1000\n",
            "         Bag       0.94      0.99      0.96      1000\n",
            "  Ankle boot       0.98      0.95      0.96      1000\n",
            "\n",
            "    accuracy                           0.90     10000\n",
            "   macro avg       0.90      0.90      0.90     10000\n",
            "weighted avg       0.90      0.90      0.90     10000\n",
            "\n"
          ]
        }
      ]
    },
    {
      "cell_type": "markdown",
      "source": [
        "**Displaying a random set of images from test data**"
      ],
      "metadata": {
        "id": "L5-11WQI2_em"
      }
    },
    {
      "cell_type": "code",
      "source": [
        "dataiter = iter(test_dataloader)\n",
        "images, labels = next(dataiter)\n",
        "predicted=predict(images,cnn_model)\n",
        "\n",
        "fig, axes = plt.subplots(nrows=3, ncols=5, figsize=(15, 7), subplot_kw={'xticks': [], 'yticks': []})\n",
        "for i,ax in zip(range(0,16),axes.flat):\n",
        "    img,label=images[i],labels[i]\n",
        "    pred=predicted[i]\n",
        "    ax.imshow(img.permute(1, 2, 0))\n",
        "    ax.set_title(f\"True: {classes[label]}\\n Predicted: {classes[pred]}\")\n",
        "\n",
        "plt.tight_layout()\n",
        "plt.show()"
      ],
      "metadata": {
        "id": "rVr_w4_80rJI",
        "colab": {
          "base_uri": "https://localhost:8080/",
          "height": 658
        },
        "outputId": "9c504389-b186-4aaf-c091-c28364c62c0d"
      },
      "execution_count": null,
      "outputs": [
        {
          "output_type": "display_data",
          "data": {
            "text/plain": [
              "<Figure size 1500x700 with 15 Axes>"
            ],
            "image/png": "[encoded data removed]"
          },
          "metadata": {}
        }
      ]
    }
  ],
  "metadata": {
    "kernelspec": {
      "display_name": "Python 3",
      "language": "python",
      "name": "python3"
    },
    "language_info": {
      "codemirror_mode": {
        "name": "ipython",
        "version": 3
      },
      "file_extension": ".py",
      "mimetype": "text/x-python",
      "name": "python",
      "nbconvert_exporter": "python",
      "pygments_lexer": "ipython3",
      "version": "3.7.6"
    },
    "papermill": {
      "duration": 247.72117,
      "end_time": "2020-11-06T00:19:37.463107",
      "environment_variables": {},
      "exception": null,
      "input_path": "__notebook__.ipynb",
      "output_path": "__notebook__.ipynb",
      "parameters": {},
      "start_time": "2020-11-06T00:15:29.741937",
      "version": "2.1.0"
    },
    "colab": {
      "provenance": []
    },
    "accelerator": "GPU",
    "gpuClass": "standard"
  },
  "nbformat": 4,
  "nbformat_minor": 0
}